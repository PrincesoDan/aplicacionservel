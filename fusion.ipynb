{
 "cells": [
  {
   "cell_type": "code",
   "execution_count": 1,
   "metadata": {},
   "outputs": [
    {
     "name": "stderr",
     "output_type": "stream",
     "text": [
      "2023-11-30 17:22:51.837 WARNING streamlit.runtime.caching.cache_data_api: No runtime found, using MemoryCacheStorageManager\n",
      "2023-11-30 17:22:52.121 \n",
      "  \u001b[33m\u001b[1mWarning:\u001b[0m to view this Streamlit app on a browser, run it with the following\n",
      "  command:\n",
      "\n",
      "    streamlit run /home/danielsf/anaconda3/envs/servel/lib/python3.11/site-packages/ipykernel_launcher.py [ARGUMENTS]\n",
      "2023-11-30 17:22:52.140 No runtime found, using MemoryCacheStorageManager\n"
     ]
    }
   ],
   "source": [
    "import pandas as pd\n",
    "pd.set_option(\"display.max_columns\", 500)\n",
    "import geopandas as gpd\n",
    "from app import leer_datos\n",
    "\n",
    "df, colegios = leer_datos()\n"
   ]
  },
  {
   "cell_type": "code",
   "execution_count": 2,
   "metadata": {},
   "outputs": [
    {
     "data": {
      "text/html": [
       "<div>\n",
       "<style scoped>\n",
       "    .dataframe tbody tr th:only-of-type {\n",
       "        vertical-align: middle;\n",
       "    }\n",
       "\n",
       "    .dataframe tbody tr th {\n",
       "        vertical-align: top;\n",
       "    }\n",
       "\n",
       "    .dataframe thead th {\n",
       "        text-align: right;\n",
       "    }\n",
       "</style>\n",
       "<table border=\"1\" class=\"dataframe\">\n",
       "  <thead>\n",
       "    <tr style=\"text-align: right;\">\n",
       "      <th></th>\n",
       "      <th>Nro Región</th>\n",
       "      <th>Región</th>\n",
       "      <th>Circunscripción senatorial</th>\n",
       "      <th>Distrito</th>\n",
       "      <th>Comuna</th>\n",
       "      <th>Circunscripción electoral</th>\n",
       "      <th>Local</th>\n",
       "      <th>Mesa</th>\n",
       "      <th>Nro.Voto</th>\n",
       "      <th>Opciones</th>\n",
       "      <th>Selección</th>\n",
       "      <th>Votos</th>\n",
       "    </tr>\n",
       "  </thead>\n",
       "  <tbody>\n",
       "    <tr>\n",
       "      <th>0</th>\n",
       "      <td>1</td>\n",
       "      <td>DE TARAPACA</td>\n",
       "      <td>CIRCUNSCRIPCION SENATORIAL 2</td>\n",
       "      <td>DISTRITO 2</td>\n",
       "      <td>ALTO HOSPICIO</td>\n",
       "      <td>ALTO HOSPICIO</td>\n",
       "      <td>ANEXO DE COLEGIO SAN ANTONIO DE MATILLA</td>\n",
       "      <td>78</td>\n",
       "      <td>1.0</td>\n",
       "      <td>APRUEBO</td>\n",
       "      <td>None</td>\n",
       "      <td>87</td>\n",
       "    </tr>\n",
       "  </tbody>\n",
       "</table>\n",
       "</div>"
      ],
      "text/plain": [
       "   Nro Región       Región    Circunscripción senatorial    Distrito  \\\n",
       "0           1  DE TARAPACA  CIRCUNSCRIPCION SENATORIAL 2  DISTRITO 2   \n",
       "\n",
       "          Comuna Circunscripción electoral  \\\n",
       "0  ALTO HOSPICIO             ALTO HOSPICIO   \n",
       "\n",
       "                                     Local  Mesa  Nro.Voto Opciones Selección  \\\n",
       "0  ANEXO DE COLEGIO SAN ANTONIO DE MATILLA    78       1.0  APRUEBO      None   \n",
       "\n",
       "   Votos  \n",
       "0     87  "
      ]
     },
     "execution_count": 2,
     "metadata": {},
     "output_type": "execute_result"
    }
   ],
   "source": [
    "df.head(1)"
   ]
  },
  {
   "cell_type": "code",
   "execution_count": 3,
   "metadata": {},
   "outputs": [
    {
     "data": {
      "text/plain": [
       "2755"
      ]
     },
     "execution_count": 3,
     "metadata": {},
     "output_type": "execute_result"
    }
   ],
   "source": [
    "df.Local.nunique()"
   ]
  },
  {
   "cell_type": "code",
   "execution_count": 6,
   "metadata": {},
   "outputs": [
    {
     "data": {
      "text/html": [
       "<div>\n",
       "<style scoped>\n",
       "    .dataframe tbody tr th:only-of-type {\n",
       "        vertical-align: middle;\n",
       "    }\n",
       "\n",
       "    .dataframe tbody tr th {\n",
       "        vertical-align: top;\n",
       "    }\n",
       "\n",
       "    .dataframe thead th {\n",
       "        text-align: right;\n",
       "    }\n",
       "</style>\n",
       "<table border=\"1\" class=\"dataframe\">\n",
       "  <thead>\n",
       "    <tr style=\"text-align: right;\">\n",
       "      <th></th>\n",
       "      <th>AGNO</th>\n",
       "      <th>RBD</th>\n",
       "      <th>DGV_RBD</th>\n",
       "      <th>NOM_RBD</th>\n",
       "      <th>TIPO_SOST</th>\n",
       "      <th>COD_REG_RB</th>\n",
       "      <th>NOM_REG_RB</th>\n",
       "      <th>COD_PRO_RB</th>\n",
       "      <th>COD_COM_RB</th>\n",
       "      <th>NOM_COM_RB</th>\n",
       "      <th>COD_DEPROV</th>\n",
       "      <th>NOM_DEPROV</th>\n",
       "      <th>TIPO_DEPEN</th>\n",
       "      <th>DIRECCION</th>\n",
       "      <th>NUMERO</th>\n",
       "      <th>REFERENCIA</th>\n",
       "      <th>LATITUD</th>\n",
       "      <th>LONGITUD</th>\n",
       "      <th>MAT_PARV</th>\n",
       "      <th>MAT_BAS_RE</th>\n",
       "      <th>MAT_BAS_AD</th>\n",
       "      <th>MAT_ESP</th>\n",
       "      <th>MAT_MHC_RE</th>\n",
       "      <th>MAT_MHC_AD</th>\n",
       "      <th>MAT_MTP_RE</th>\n",
       "      <th>MAT_MTP_AD</th>\n",
       "      <th>MAT_TOTAL</th>\n",
       "      <th>MAT_HOM_TO</th>\n",
       "      <th>MAT_MUJ_TO</th>\n",
       "      <th>MAT_SI_TOT</th>\n",
       "      <th>CUR_SIM_TO</th>\n",
       "      <th>CUR_COMB_T</th>\n",
       "      <th>geometry</th>\n",
       "    </tr>\n",
       "  </thead>\n",
       "  <tbody>\n",
       "    <tr>\n",
       "      <th>3881</th>\n",
       "      <td>2021.0</td>\n",
       "      <td>3835.0</td>\n",
       "      <td>0.0</td>\n",
       "      <td>ESCUELA BRITANICA GUILLERMINA DRAKE WOOD</td>\n",
       "      <td>1.0</td>\n",
       "      <td>16.0</td>\n",
       "      <td>NUBLE</td>\n",
       "      <td>163.0</td>\n",
       "      <td>16302.0</td>\n",
       "      <td>COIHUECO</td>\n",
       "      <td>81.0</td>\n",
       "      <td>ÑUBLE</td>\n",
       "      <td>1.0</td>\n",
       "      <td>BALMACEDA</td>\n",
       "      <td>1419.0</td>\n",
       "      <td>A 50 MTS.AL NORTE DE LA PLAZA DE ARMAS DE COIH...</td>\n",
       "      <td>-36.627789</td>\n",
       "      <td>-71.832497</td>\n",
       "      <td>55.0</td>\n",
       "      <td>416.0</td>\n",
       "      <td>0.0</td>\n",
       "      <td>0.0</td>\n",
       "      <td>0.0</td>\n",
       "      <td>0.0</td>\n",
       "      <td>0.0</td>\n",
       "      <td>0.0</td>\n",
       "      <td>471.0</td>\n",
       "      <td>238.0</td>\n",
       "      <td>233.0</td>\n",
       "      <td>0.0</td>\n",
       "      <td>19.0</td>\n",
       "      <td>0.0</td>\n",
       "      <td>POINT (-71.83250 -36.62779)</td>\n",
       "    </tr>\n",
       "    <tr>\n",
       "      <th>8990</th>\n",
       "      <td>2021.0</td>\n",
       "      <td>1520.0</td>\n",
       "      <td>2.0</td>\n",
       "      <td>LICEO BICENTENARIO MARITIMO DE VALPARAISO</td>\n",
       "      <td>1.0</td>\n",
       "      <td>5.0</td>\n",
       "      <td>VALPO</td>\n",
       "      <td>51.0</td>\n",
       "      <td>5101.0</td>\n",
       "      <td>VALPARAÍSO</td>\n",
       "      <td>53.0</td>\n",
       "      <td>VALPARAÍSO</td>\n",
       "      <td>5.0</td>\n",
       "      <td>AVENIDA ERRAZURIZ</td>\n",
       "      <td>1490.0</td>\n",
       "      <td>EL ESTABLECIMIENTO ESTA UBICADO ENTRE CALLE BL...</td>\n",
       "      <td>-33.043720</td>\n",
       "      <td>-71.620842</td>\n",
       "      <td>0.0</td>\n",
       "      <td>67.0</td>\n",
       "      <td>0.0</td>\n",
       "      <td>0.0</td>\n",
       "      <td>468.0</td>\n",
       "      <td>0.0</td>\n",
       "      <td>0.0</td>\n",
       "      <td>0.0</td>\n",
       "      <td>535.0</td>\n",
       "      <td>245.0</td>\n",
       "      <td>290.0</td>\n",
       "      <td>0.0</td>\n",
       "      <td>19.0</td>\n",
       "      <td>0.0</td>\n",
       "      <td>POINT (-71.62084 -33.04372)</td>\n",
       "    </tr>\n",
       "    <tr>\n",
       "      <th>4461</th>\n",
       "      <td>2021.0</td>\n",
       "      <td>16631.0</td>\n",
       "      <td>6.0</td>\n",
       "      <td>ESCUELA DE LENGUAJE TORREBLANCA</td>\n",
       "      <td>1.0</td>\n",
       "      <td>7.0</td>\n",
       "      <td>MAULE</td>\n",
       "      <td>74.0</td>\n",
       "      <td>7406.0</td>\n",
       "      <td>SAN JAVIER</td>\n",
       "      <td>73.0</td>\n",
       "      <td>LINARES</td>\n",
       "      <td>2.0</td>\n",
       "      <td>TORREBLANCA</td>\n",
       "      <td>2364.0</td>\n",
       "      <td>None</td>\n",
       "      <td>-35.592420</td>\n",
       "      <td>-71.729095</td>\n",
       "      <td>0.0</td>\n",
       "      <td>0.0</td>\n",
       "      <td>0.0</td>\n",
       "      <td>58.0</td>\n",
       "      <td>0.0</td>\n",
       "      <td>0.0</td>\n",
       "      <td>0.0</td>\n",
       "      <td>0.0</td>\n",
       "      <td>58.0</td>\n",
       "      <td>37.0</td>\n",
       "      <td>21.0</td>\n",
       "      <td>0.0</td>\n",
       "      <td>6.0</td>\n",
       "      <td>0.0</td>\n",
       "      <td>POINT (-71.72910 -35.59242)</td>\n",
       "    </tr>\n",
       "    <tr>\n",
       "      <th>10677</th>\n",
       "      <td>2021.0</td>\n",
       "      <td>13123.0</td>\n",
       "      <td>7.0</td>\n",
       "      <td>JARDÍN INFANTIL PASITOS DE NIÑOS</td>\n",
       "      <td>1.0</td>\n",
       "      <td>3.0</td>\n",
       "      <td>ATCMA</td>\n",
       "      <td>32.0</td>\n",
       "      <td>3202.0</td>\n",
       "      <td>DIEGO DE ALMAGRO</td>\n",
       "      <td>31.0</td>\n",
       "      <td>COPIAPÓ</td>\n",
       "      <td>2.0</td>\n",
       "      <td>KELLEY</td>\n",
       "      <td>2317.0</td>\n",
       "      <td>AV. O`HIGGINS</td>\n",
       "      <td>-26.390240</td>\n",
       "      <td>-70.047530</td>\n",
       "      <td>41.0</td>\n",
       "      <td>0.0</td>\n",
       "      <td>0.0</td>\n",
       "      <td>0.0</td>\n",
       "      <td>0.0</td>\n",
       "      <td>0.0</td>\n",
       "      <td>0.0</td>\n",
       "      <td>0.0</td>\n",
       "      <td>41.0</td>\n",
       "      <td>19.0</td>\n",
       "      <td>22.0</td>\n",
       "      <td>0.0</td>\n",
       "      <td>2.0</td>\n",
       "      <td>0.0</td>\n",
       "      <td>POINT (-70.04753 -26.39024)</td>\n",
       "    </tr>\n",
       "  </tbody>\n",
       "</table>\n",
       "</div>"
      ],
      "text/plain": [
       "         AGNO      RBD  DGV_RBD                                    NOM_RBD  \\\n",
       "3881   2021.0   3835.0      0.0   ESCUELA BRITANICA GUILLERMINA DRAKE WOOD   \n",
       "8990   2021.0   1520.0      2.0  LICEO BICENTENARIO MARITIMO DE VALPARAISO   \n",
       "4461   2021.0  16631.0      6.0            ESCUELA DE LENGUAJE TORREBLANCA   \n",
       "10677  2021.0  13123.0      7.0           JARDÍN INFANTIL PASITOS DE NIÑOS   \n",
       "\n",
       "       TIPO_SOST  COD_REG_RB NOM_REG_RB  COD_PRO_RB  COD_COM_RB  \\\n",
       "3881         1.0        16.0      NUBLE       163.0     16302.0   \n",
       "8990         1.0         5.0      VALPO        51.0      5101.0   \n",
       "4461         1.0         7.0      MAULE        74.0      7406.0   \n",
       "10677        1.0         3.0      ATCMA        32.0      3202.0   \n",
       "\n",
       "             NOM_COM_RB  COD_DEPROV  NOM_DEPROV  TIPO_DEPEN  \\\n",
       "3881           COIHUECO        81.0       ÑUBLE         1.0   \n",
       "8990         VALPARAÍSO        53.0  VALPARAÍSO         5.0   \n",
       "4461         SAN JAVIER        73.0     LINARES         2.0   \n",
       "10677  DIEGO DE ALMAGRO        31.0     COPIAPÓ         2.0   \n",
       "\n",
       "               DIRECCION  NUMERO  \\\n",
       "3881           BALMACEDA  1419.0   \n",
       "8990   AVENIDA ERRAZURIZ  1490.0   \n",
       "4461         TORREBLANCA  2364.0   \n",
       "10677             KELLEY  2317.0   \n",
       "\n",
       "                                              REFERENCIA    LATITUD  \\\n",
       "3881   A 50 MTS.AL NORTE DE LA PLAZA DE ARMAS DE COIH... -36.627789   \n",
       "8990   EL ESTABLECIMIENTO ESTA UBICADO ENTRE CALLE BL... -33.043720   \n",
       "4461                                                None -35.592420   \n",
       "10677                                      AV. O`HIGGINS -26.390240   \n",
       "\n",
       "        LONGITUD  MAT_PARV  MAT_BAS_RE  MAT_BAS_AD  MAT_ESP  MAT_MHC_RE  \\\n",
       "3881  -71.832497      55.0       416.0         0.0      0.0         0.0   \n",
       "8990  -71.620842       0.0        67.0         0.0      0.0       468.0   \n",
       "4461  -71.729095       0.0         0.0         0.0     58.0         0.0   \n",
       "10677 -70.047530      41.0         0.0         0.0      0.0         0.0   \n",
       "\n",
       "       MAT_MHC_AD  MAT_MTP_RE  MAT_MTP_AD  MAT_TOTAL  MAT_HOM_TO  MAT_MUJ_TO  \\\n",
       "3881          0.0         0.0         0.0      471.0       238.0       233.0   \n",
       "8990          0.0         0.0         0.0      535.0       245.0       290.0   \n",
       "4461          0.0         0.0         0.0       58.0        37.0        21.0   \n",
       "10677         0.0         0.0         0.0       41.0        19.0        22.0   \n",
       "\n",
       "       MAT_SI_TOT  CUR_SIM_TO  CUR_COMB_T                     geometry  \n",
       "3881          0.0        19.0         0.0  POINT (-71.83250 -36.62779)  \n",
       "8990          0.0        19.0         0.0  POINT (-71.62084 -33.04372)  \n",
       "4461          0.0         6.0         0.0  POINT (-71.72910 -35.59242)  \n",
       "10677         0.0         2.0         0.0  POINT (-70.04753 -26.39024)  "
      ]
     },
     "execution_count": 6,
     "metadata": {},
     "output_type": "execute_result"
    }
   ],
   "source": [
    "colegios.sample(4)"
   ]
  },
  {
   "cell_type": "code",
   "execution_count": 14,
   "metadata": {},
   "outputs": [
    {
     "data": {
      "text/plain": [
       "10510"
      ]
     },
     "execution_count": 14,
     "metadata": {},
     "output_type": "execute_result"
    }
   ],
   "source": [
    "colegios.local.nunique()"
   ]
  },
  {
   "cell_type": "code",
   "execution_count": null,
   "metadata": {},
   "outputs": [],
   "source": []
  },
  {
   "cell_type": "code",
   "execution_count": 10,
   "metadata": {},
   "outputs": [],
   "source": [
    "#Dejar en minuscula los nombres de los colegios en ambas bases de datos.\n",
    "df.columns = [col.lower() for col in df.columns]\n",
    "df[\"local\"] = df[\"local\"].apply(lambda x: x.lower())\n",
    "\n",
    "def minuscula(x):\n",
    "    return x.lower()\n",
    "\n",
    "colegios.columns = [col.lower() for col in colegios.columns]\n",
    "colegios[\"local\"] = colegios[\"nom_rbd\"].apply(minuscula)\n",
    "\n"
   ]
  },
  {
   "cell_type": "code",
   "execution_count": 18,
   "metadata": {},
   "outputs": [
    {
     "data": {
      "text/plain": [
       "Index(['nro región', 'región', 'circunscripción senatorial', 'distrito',\n",
       "       'comuna', 'circunscripción electoral', 'local', 'mesa', 'nro.voto',\n",
       "       'opciones', 'selección', 'votos'],\n",
       "      dtype='object')"
      ]
     },
     "execution_count": 18,
     "metadata": {},
     "output_type": "execute_result"
    }
   ],
   "source": [
    "df.columns"
   ]
  },
  {
   "cell_type": "code",
   "execution_count": 23,
   "metadata": {},
   "outputs": [],
   "source": [
    "df.head(3)\n",
    "df_final = df.pivot_table(index= ['nro región', 'región', 'distrito',\n",
    "       'comuna','local'], \n",
    "       columns=\"opciones\", \n",
    "       values=\"votos\",\n",
    "       aggfunc=\"sum\").reset_index()"
   ]
  },
  {
   "cell_type": "code",
   "execution_count": 26,
   "metadata": {},
   "outputs": [],
   "source": [
    "dataf = df_final.merge(colegios[['local', 'geometry']], on=\"local\", how=\"left\")"
   ]
  },
  {
   "cell_type": "code",
   "execution_count": 30,
   "metadata": {},
   "outputs": [
    {
     "data": {
      "text/plain": [
       "0.8526315789473684"
      ]
     },
     "execution_count": 30,
     "metadata": {},
     "output_type": "execute_result"
    }
   ],
   "source": [
    "dataf.dropna(subset=\"geometry\").shape[0]/df.local.nunique()"
   ]
  },
  {
   "cell_type": "code",
   "execution_count": 31,
   "metadata": {},
   "outputs": [
    {
     "data": {
      "text/plain": [
       "local\n",
       "gimnasio municipal                     13\n",
       "escuela gabriela mistral                7\n",
       "escuela arturo prat chacon              6\n",
       "escuela españa                          6\n",
       "liceo gabriela mistral                  5\n",
       "                                       ..\n",
       "escuela genaro rios campos              1\n",
       "escuela jorge rojas miranda             1\n",
       "escuela juan jose latorre benavente     1\n",
       "escuela octavio salinas cariaga         1\n",
       "liceo polivalente san gregorio          1\n",
       "Name: count, Length: 2755, dtype: int64"
      ]
     },
     "execution_count": 31,
     "metadata": {},
     "output_type": "execute_result"
    }
   ],
   "source": [
    "df_final.local.value_counts()"
   ]
  }
 ],
 "metadata": {
  "kernelspec": {
   "display_name": "servel",
   "language": "python",
   "name": "python3"
  },
  "language_info": {
   "codemirror_mode": {
    "name": "ipython",
    "version": 3
   },
   "file_extension": ".py",
   "mimetype": "text/x-python",
   "name": "python",
   "nbconvert_exporter": "python",
   "pygments_lexer": "ipython3",
   "version": "3.11.5"
  }
 },
 "nbformat": 4,
 "nbformat_minor": 2
}
